{
 "cells": [
  {
   "cell_type": "markdown",
   "metadata": {},
   "source": [
    "## SQL-challenge: Employee Database"
   ]
  },
  {
   "cell_type": "markdown",
   "metadata": {},
   "source": [
    "#### Dependencies and Setup"
   ]
  },
  {
   "cell_type": "code",
   "execution_count": 1,
   "metadata": {},
   "outputs": [],
   "source": [
    "import psycopg2\n",
    "import sys, os\n",
    "import numpy as np\n",
    "import pandas as pd\n",
    "import config as creds\n",
    "import pandas.io.sql as psql\n",
    "import seaborn as sns\n",
    "import matplotlib.pyplot as plt\n",
    "sns.set()"
   ]
  },
  {
   "cell_type": "markdown",
   "metadata": {},
   "source": [
    "#### Load PSQL DataBase"
   ]
  },
  {
   "cell_type": "code",
   "execution_count": 2,
   "metadata": {},
   "outputs": [
    {
     "name": "stdout",
     "output_type": "stream",
     "text": [
      "PostgreSQL Database sql_challenge is connected!\n"
     ]
    }
   ],
   "source": [
    "# Set up a connection to the postgres server.\n",
    "conn_string = \"host=\"+ creds.PGHOST +\" port=\"+ \"5432\" +\" dbname=\"+ creds.PGDATABASE +\" user=\" + creds.PGUSER \\\n",
    "+\" password=\"+ creds.PGPASSWORD\n",
    "conn=psycopg2.connect(conn_string)\n",
    "print(f\"PostgreSQL Database {creds.PGDATABASE} is connected!\")\n",
    "\n",
    "# Create a cursor object\n",
    "cursor = conn.cursor()"
   ]
  },
  {
   "cell_type": "markdown",
   "metadata": {},
   "source": [
    "#### Reading DataSet from DataBase"
   ]
  },
  {
   "cell_type": "code",
   "execution_count": 3,
   "metadata": {},
   "outputs": [],
   "source": [
    "def load_data(schema='public', table='employees', query=None):\n",
    "    if query == None:\n",
    "        sql_command = \"SELECT * FROM {}.{};\".format(str(schema), str(table))\n",
    "    else: sql_command = query\n",
    "    print ('Query:',sql_command)\n",
    "    # Load the data\n",
    "    data = pd.read_sql(sql_command, conn)\n",
    "    print('Data shape:',data.shape)\n",
    "    return (data)"
   ]
  },
  {
   "cell_type": "code",
   "execution_count": 4,
   "metadata": {},
   "outputs": [
    {
     "name": "stdout",
     "output_type": "stream",
     "text": [
      "Query: SELECT * FROM public.employees;\n",
      "Data shape: (300024, 7)\n"
     ]
    },
    {
     "data": {
      "text/html": [
       "<div>\n",
       "<style scoped>\n",
       "    .dataframe tbody tr th:only-of-type {\n",
       "        vertical-align: middle;\n",
       "    }\n",
       "\n",
       "    .dataframe tbody tr th {\n",
       "        vertical-align: top;\n",
       "    }\n",
       "\n",
       "    .dataframe thead th {\n",
       "        text-align: right;\n",
       "    }\n",
       "</style>\n",
       "<table border=\"1\" class=\"dataframe\">\n",
       "  <thead>\n",
       "    <tr style=\"text-align: right;\">\n",
       "      <th></th>\n",
       "      <th>emp_no</th>\n",
       "      <th>emp_title_id</th>\n",
       "      <th>birth_date</th>\n",
       "      <th>first_name</th>\n",
       "      <th>last_name</th>\n",
       "      <th>sex</th>\n",
       "      <th>hire_date</th>\n",
       "    </tr>\n",
       "  </thead>\n",
       "  <tbody>\n",
       "    <tr>\n",
       "      <th>0</th>\n",
       "      <td>473302</td>\n",
       "      <td>s0001</td>\n",
       "      <td>1953-07-25</td>\n",
       "      <td>Hideyuki</td>\n",
       "      <td>Zallocco</td>\n",
       "      <td>M</td>\n",
       "      <td>1990-04-28</td>\n",
       "    </tr>\n",
       "    <tr>\n",
       "      <th>1</th>\n",
       "      <td>475053</td>\n",
       "      <td>e0002</td>\n",
       "      <td>1954-11-18</td>\n",
       "      <td>Byong</td>\n",
       "      <td>Delgrande</td>\n",
       "      <td>F</td>\n",
       "      <td>1991-09-07</td>\n",
       "    </tr>\n",
       "    <tr>\n",
       "      <th>2</th>\n",
       "      <td>57444</td>\n",
       "      <td>e0002</td>\n",
       "      <td>1958-01-30</td>\n",
       "      <td>Berry</td>\n",
       "      <td>Babb</td>\n",
       "      <td>F</td>\n",
       "      <td>1992-03-21</td>\n",
       "    </tr>\n",
       "    <tr>\n",
       "      <th>3</th>\n",
       "      <td>421786</td>\n",
       "      <td>s0001</td>\n",
       "      <td>1957-09-28</td>\n",
       "      <td>Xiong</td>\n",
       "      <td>Verhoeff</td>\n",
       "      <td>M</td>\n",
       "      <td>1987-11-26</td>\n",
       "    </tr>\n",
       "    <tr>\n",
       "      <th>4</th>\n",
       "      <td>282238</td>\n",
       "      <td>e0003</td>\n",
       "      <td>1952-10-28</td>\n",
       "      <td>Abdelkader</td>\n",
       "      <td>Baumann</td>\n",
       "      <td>F</td>\n",
       "      <td>1991-01-18</td>\n",
       "    </tr>\n",
       "  </tbody>\n",
       "</table>\n",
       "</div>"
      ],
      "text/plain": [
       "   emp_no emp_title_id  birth_date  first_name  last_name sex   hire_date\n",
       "0  473302        s0001  1953-07-25    Hideyuki   Zallocco   M  1990-04-28\n",
       "1  475053        e0002  1954-11-18       Byong  Delgrande   F  1991-09-07\n",
       "2   57444        e0002  1958-01-30       Berry       Babb   F  1992-03-21\n",
       "3  421786        s0001  1957-09-28       Xiong   Verhoeff   M  1987-11-26\n",
       "4  282238        e0003  1952-10-28  Abdelkader    Baumann   F  1991-01-18"
      ]
     },
     "execution_count": 4,
     "metadata": {},
     "output_type": "execute_result"
    }
   ],
   "source": [
    "# Loading the Employees Dataset form PostrgreSQL Database\n",
    "empl_data = load_data()\n",
    "empl_data.head()"
   ]
  },
  {
   "cell_type": "code",
   "execution_count": 5,
   "metadata": {},
   "outputs": [
    {
     "name": "stdout",
     "output_type": "stream",
     "text": [
      "Query: \n",
      "    SELECT e.first_name, e.last_name, e.sex, d.dept_name, t.title, s.salary\n",
      "    FROM employees AS e\n",
      "    INNER JOIN salary AS s USING (emp_no)\n",
      "    INNER JOIN dept_employees USING (emp_no)\n",
      "    INNER JOIN departments AS d USING (dept_no)\n",
      "    INNER JOIN title AS t ON e.emp_title_id = t.title_id;\n",
      "    \n",
      "Data shape: (331603, 6)\n"
     ]
    },
    {
     "data": {
      "text/html": [
       "<div>\n",
       "<style scoped>\n",
       "    .dataframe tbody tr th:only-of-type {\n",
       "        vertical-align: middle;\n",
       "    }\n",
       "\n",
       "    .dataframe tbody tr th {\n",
       "        vertical-align: top;\n",
       "    }\n",
       "\n",
       "    .dataframe thead th {\n",
       "        text-align: right;\n",
       "    }\n",
       "</style>\n",
       "<table border=\"1\" class=\"dataframe\">\n",
       "  <thead>\n",
       "    <tr style=\"text-align: right;\">\n",
       "      <th></th>\n",
       "      <th>first_name</th>\n",
       "      <th>last_name</th>\n",
       "      <th>sex</th>\n",
       "      <th>dept_name</th>\n",
       "      <th>title</th>\n",
       "      <th>salary</th>\n",
       "    </tr>\n",
       "  </thead>\n",
       "  <tbody>\n",
       "    <tr>\n",
       "      <th>0</th>\n",
       "      <td>Kyoichi</td>\n",
       "      <td>Maliniak</td>\n",
       "      <td>M</td>\n",
       "      <td>Human Resources</td>\n",
       "      <td>Staff</td>\n",
       "      <td>78228</td>\n",
       "    </tr>\n",
       "    <tr>\n",
       "      <th>1</th>\n",
       "      <td>Duangkaew</td>\n",
       "      <td>Piveteau</td>\n",
       "      <td>F</td>\n",
       "      <td>Production</td>\n",
       "      <td>Engineer</td>\n",
       "      <td>72488</td>\n",
       "    </tr>\n",
       "    <tr>\n",
       "      <th>2</th>\n",
       "      <td>Duangkaew</td>\n",
       "      <td>Piveteau</td>\n",
       "      <td>F</td>\n",
       "      <td>Quality Management</td>\n",
       "      <td>Engineer</td>\n",
       "      <td>72488</td>\n",
       "    </tr>\n",
       "    <tr>\n",
       "      <th>3</th>\n",
       "      <td>Mary</td>\n",
       "      <td>Sluis</td>\n",
       "      <td>F</td>\n",
       "      <td>Customer Service</td>\n",
       "      <td>Staff</td>\n",
       "      <td>42365</td>\n",
       "    </tr>\n",
       "    <tr>\n",
       "      <th>4</th>\n",
       "      <td>Eberhardt</td>\n",
       "      <td>Terkki</td>\n",
       "      <td>M</td>\n",
       "      <td>Human Resources</td>\n",
       "      <td>Senior Staff</td>\n",
       "      <td>40000</td>\n",
       "    </tr>\n",
       "  </tbody>\n",
       "</table>\n",
       "</div>"
      ],
      "text/plain": [
       "  first_name last_name sex           dept_name         title  salary\n",
       "0    Kyoichi  Maliniak   M     Human Resources         Staff   78228\n",
       "1  Duangkaew  Piveteau   F          Production      Engineer   72488\n",
       "2  Duangkaew  Piveteau   F  Quality Management      Engineer   72488\n",
       "3       Mary     Sluis   F    Customer Service         Staff   42365\n",
       "4  Eberhardt    Terkki   M     Human Resources  Senior Staff   40000"
      ]
     },
     "execution_count": 5,
     "metadata": {},
     "output_type": "execute_result"
    }
   ],
   "source": [
    "salary_request = \"\"\"\n",
    "    SELECT e.first_name, e.last_name, e.sex, d.dept_name, t.title, s.salary\n",
    "    FROM employees AS e\n",
    "    INNER JOIN salary AS s USING (emp_no)\n",
    "    INNER JOIN dept_employees USING (emp_no)\n",
    "    INNER JOIN departments AS d USING (dept_no)\n",
    "    INNER JOIN title AS t ON e.emp_title_id = t.title_id;\n",
    "    \"\"\"\n",
    "sal_data = load_data(query=salary_request)\n",
    "sal_data.head()"
   ]
  },
  {
   "cell_type": "markdown",
   "metadata": {},
   "source": [
    "#### Data Analysis and Visualization"
   ]
  },
  {
   "cell_type": "code",
   "execution_count": 6,
   "metadata": {},
   "outputs": [
    {
     "data": {
      "text/plain": [
       "count    331603.000000\n",
       "mean      52972.225432\n",
       "std       14299.003001\n",
       "min       40000.000000\n",
       "25%       40000.000000\n",
       "50%       48691.000000\n",
       "75%       61765.000000\n",
       "max      129492.000000\n",
       "Name: salary, dtype: float64"
      ]
     },
     "execution_count": 6,
     "metadata": {},
     "output_type": "execute_result"
    }
   ],
   "source": [
    "sal_data['salary'].describe()"
   ]
  },
  {
   "cell_type": "code",
   "execution_count": 7,
   "metadata": {},
   "outputs": [
    {
     "data": {
      "image/png": "[encoded data removed]",
      "text/plain": [
       "<Figure size 432x288 with 1 Axes>"
      ]
     },
     "metadata": {},
     "output_type": "display_data"
    }
   ],
   "source": [
    "_ = sns.distplot(sal_data['salary'])\n",
    "_ = plt.title('Employees Salary Distribution', fontsize=12)"
   ]
  },
  {
   "cell_type": "code",
   "execution_count": 8,
   "metadata": {},
   "outputs": [
    {
     "data": {
      "image/png": "[encoded data removed]",
      "text/plain": [
       "<Figure size 432x288 with 1 Axes>"
      ]
     },
     "metadata": {},
     "output_type": "display_data"
    }
   ],
   "source": [
    "title_data = sal_data.groupby('title')['salary'].mean().sort_values()\n",
    "_ = title_data.plot(kind='barh')\n",
    "_ = plt.title('Average Salary by Title', fontsize=12)"
   ]
  },
  {
   "cell_type": "code",
   "execution_count": 9,
   "metadata": {},
   "outputs": [
    {
     "data": {
      "image/png": "[encoded data removed]",
      "text/plain": [
       "<Figure size 432x288 with 1 Axes>"
      ]
     },
     "metadata": {},
     "output_type": "display_data"
    }
   ],
   "source": [
    "_ = sns.boxplot(sal_data['sex'], sal_data['salary'])\n",
    "_ = plt.title('Salary vs Gender Box Plot', fontsize=12)"
   ]
  },
  {
   "cell_type": "code",
   "execution_count": 10,
   "metadata": {},
   "outputs": [
    {
     "name": "stdout",
     "output_type": "stream",
     "text": [
      "Query: \n",
      "    SELECT e.first_name, e.last_name, dm.dept_no, d.dept_name, s.salary\n",
      "    FROM dept_managers AS dm\n",
      "    INNER JOIN departments AS d USING (dept_no)\n",
      "    INNER JOIN employees AS e USING (emp_no)\n",
      "    INNER JOIN salary AS s USING (emp_no);\n",
      "    \n",
      "Data shape: (24, 5)\n"
     ]
    },
    {
     "data": {
      "text/html": [
       "<div>\n",
       "<style scoped>\n",
       "    .dataframe tbody tr th:only-of-type {\n",
       "        vertical-align: middle;\n",
       "    }\n",
       "\n",
       "    .dataframe tbody tr th {\n",
       "        vertical-align: top;\n",
       "    }\n",
       "\n",
       "    .dataframe thead th {\n",
       "        text-align: right;\n",
       "    }\n",
       "</style>\n",
       "<table border=\"1\" class=\"dataframe\">\n",
       "  <thead>\n",
       "    <tr style=\"text-align: right;\">\n",
       "      <th></th>\n",
       "      <th>first_name</th>\n",
       "      <th>last_name</th>\n",
       "      <th>dept_no</th>\n",
       "      <th>dept_name</th>\n",
       "      <th>salary</th>\n",
       "    </tr>\n",
       "  </thead>\n",
       "  <tbody>\n",
       "    <tr>\n",
       "      <th>0</th>\n",
       "      <td>Vishwani</td>\n",
       "      <td>Minakawa</td>\n",
       "      <td>d001</td>\n",
       "      <td>Marketing</td>\n",
       "      <td>69941</td>\n",
       "    </tr>\n",
       "    <tr>\n",
       "      <th>1</th>\n",
       "      <td>Margareta</td>\n",
       "      <td>Markovitch</td>\n",
       "      <td>d001</td>\n",
       "      <td>Marketing</td>\n",
       "      <td>71166</td>\n",
       "    </tr>\n",
       "    <tr>\n",
       "      <th>2</th>\n",
       "      <td>Isamu</td>\n",
       "      <td>Legleitner</td>\n",
       "      <td>d002</td>\n",
       "      <td>Finance</td>\n",
       "      <td>52070</td>\n",
       "    </tr>\n",
       "    <tr>\n",
       "      <th>3</th>\n",
       "      <td>Ebru</td>\n",
       "      <td>Alpin</td>\n",
       "      <td>d002</td>\n",
       "      <td>Finance</td>\n",
       "      <td>60026</td>\n",
       "    </tr>\n",
       "    <tr>\n",
       "      <th>4</th>\n",
       "      <td>Karsten</td>\n",
       "      <td>Sigstam</td>\n",
       "      <td>d003</td>\n",
       "      <td>Human Resources</td>\n",
       "      <td>40000</td>\n",
       "    </tr>\n",
       "    <tr>\n",
       "      <th>5</th>\n",
       "      <td>Shirish</td>\n",
       "      <td>Ossenbruggen</td>\n",
       "      <td>d003</td>\n",
       "      <td>Human Resources</td>\n",
       "      <td>48291</td>\n",
       "    </tr>\n",
       "    <tr>\n",
       "      <th>6</th>\n",
       "      <td>Oscar</td>\n",
       "      <td>Ghazalie</td>\n",
       "      <td>d004</td>\n",
       "      <td>Production</td>\n",
       "      <td>40000</td>\n",
       "    </tr>\n",
       "    <tr>\n",
       "      <th>7</th>\n",
       "      <td>Shem</td>\n",
       "      <td>Kieras</td>\n",
       "      <td>d004</td>\n",
       "      <td>Production</td>\n",
       "      <td>40000</td>\n",
       "    </tr>\n",
       "    <tr>\n",
       "      <th>8</th>\n",
       "      <td>Rosine</td>\n",
       "      <td>Cools</td>\n",
       "      <td>d004</td>\n",
       "      <td>Production</td>\n",
       "      <td>50365</td>\n",
       "    </tr>\n",
       "    <tr>\n",
       "      <th>9</th>\n",
       "      <td>Krassimir</td>\n",
       "      <td>Wegerle</td>\n",
       "      <td>d004</td>\n",
       "      <td>Production</td>\n",
       "      <td>42093</td>\n",
       "    </tr>\n",
       "    <tr>\n",
       "      <th>10</th>\n",
       "      <td>Leon</td>\n",
       "      <td>DasSarma</td>\n",
       "      <td>d005</td>\n",
       "      <td>Development</td>\n",
       "      <td>40000</td>\n",
       "    </tr>\n",
       "    <tr>\n",
       "      <th>11</th>\n",
       "      <td>DeForest</td>\n",
       "      <td>Hagimont</td>\n",
       "      <td>d005</td>\n",
       "      <td>Development</td>\n",
       "      <td>48626</td>\n",
       "    </tr>\n",
       "    <tr>\n",
       "      <th>12</th>\n",
       "      <td>Dung</td>\n",
       "      <td>Pesch</td>\n",
       "      <td>d006</td>\n",
       "      <td>Quality Management</td>\n",
       "      <td>45169</td>\n",
       "    </tr>\n",
       "    <tr>\n",
       "      <th>13</th>\n",
       "      <td>Sanjoy</td>\n",
       "      <td>Quadeer</td>\n",
       "      <td>d006</td>\n",
       "      <td>Quality Management</td>\n",
       "      <td>50457</td>\n",
       "    </tr>\n",
       "    <tr>\n",
       "      <th>14</th>\n",
       "      <td>Rutger</td>\n",
       "      <td>Hofmeyr</td>\n",
       "      <td>d006</td>\n",
       "      <td>Quality Management</td>\n",
       "      <td>40055</td>\n",
       "    </tr>\n",
       "    <tr>\n",
       "      <th>15</th>\n",
       "      <td>Peternela</td>\n",
       "      <td>Onuegbe</td>\n",
       "      <td>d006</td>\n",
       "      <td>Quality Management</td>\n",
       "      <td>61357</td>\n",
       "    </tr>\n",
       "    <tr>\n",
       "      <th>16</th>\n",
       "      <td>Hauke</td>\n",
       "      <td>Zhang</td>\n",
       "      <td>d007</td>\n",
       "      <td>Sales</td>\n",
       "      <td>71148</td>\n",
       "    </tr>\n",
       "    <tr>\n",
       "      <th>17</th>\n",
       "      <td>Przemyslawa</td>\n",
       "      <td>Kaelbling</td>\n",
       "      <td>d007</td>\n",
       "      <td>Sales</td>\n",
       "      <td>71612</td>\n",
       "    </tr>\n",
       "    <tr>\n",
       "      <th>18</th>\n",
       "      <td>Hilary</td>\n",
       "      <td>Kambil</td>\n",
       "      <td>d008</td>\n",
       "      <td>Research</td>\n",
       "      <td>48077</td>\n",
       "    </tr>\n",
       "    <tr>\n",
       "      <th>19</th>\n",
       "      <td>Arie</td>\n",
       "      <td>Staelin</td>\n",
       "      <td>d008</td>\n",
       "      <td>Research</td>\n",
       "      <td>72446</td>\n",
       "    </tr>\n",
       "    <tr>\n",
       "      <th>20</th>\n",
       "      <td>Yuchang</td>\n",
       "      <td>Weedman</td>\n",
       "      <td>d009</td>\n",
       "      <td>Customer Service</td>\n",
       "      <td>40000</td>\n",
       "    </tr>\n",
       "    <tr>\n",
       "      <th>21</th>\n",
       "      <td>Xiaobin</td>\n",
       "      <td>Spinelli</td>\n",
       "      <td>d009</td>\n",
       "      <td>Customer Service</td>\n",
       "      <td>53846</td>\n",
       "    </tr>\n",
       "    <tr>\n",
       "      <th>22</th>\n",
       "      <td>Marjo</td>\n",
       "      <td>Giarratana</td>\n",
       "      <td>d009</td>\n",
       "      <td>Customer Service</td>\n",
       "      <td>40000</td>\n",
       "    </tr>\n",
       "    <tr>\n",
       "      <th>23</th>\n",
       "      <td>Tonny</td>\n",
       "      <td>Butterworth</td>\n",
       "      <td>d009</td>\n",
       "      <td>Customer Service</td>\n",
       "      <td>40000</td>\n",
       "    </tr>\n",
       "  </tbody>\n",
       "</table>\n",
       "</div>"
      ],
      "text/plain": [
       "     first_name     last_name dept_no           dept_name  salary\n",
       "0      Vishwani      Minakawa    d001           Marketing   69941\n",
       "1     Margareta    Markovitch    d001           Marketing   71166\n",
       "2         Isamu    Legleitner    d002             Finance   52070\n",
       "3          Ebru         Alpin    d002             Finance   60026\n",
       "4       Karsten       Sigstam    d003     Human Resources   40000\n",
       "5       Shirish  Ossenbruggen    d003     Human Resources   48291\n",
       "6         Oscar      Ghazalie    d004          Production   40000\n",
       "7          Shem        Kieras    d004          Production   40000\n",
       "8        Rosine         Cools    d004          Production   50365\n",
       "9     Krassimir       Wegerle    d004          Production   42093\n",
       "10         Leon      DasSarma    d005         Development   40000\n",
       "11     DeForest      Hagimont    d005         Development   48626\n",
       "12         Dung         Pesch    d006  Quality Management   45169\n",
       "13       Sanjoy       Quadeer    d006  Quality Management   50457\n",
       "14       Rutger       Hofmeyr    d006  Quality Management   40055\n",
       "15    Peternela       Onuegbe    d006  Quality Management   61357\n",
       "16        Hauke         Zhang    d007               Sales   71148\n",
       "17  Przemyslawa     Kaelbling    d007               Sales   71612\n",
       "18       Hilary        Kambil    d008            Research   48077\n",
       "19         Arie       Staelin    d008            Research   72446\n",
       "20      Yuchang       Weedman    d009    Customer Service   40000\n",
       "21      Xiaobin      Spinelli    d009    Customer Service   53846\n",
       "22        Marjo    Giarratana    d009    Customer Service   40000\n",
       "23        Tonny   Butterworth    d009    Customer Service   40000"
      ]
     },
     "execution_count": 10,
     "metadata": {},
     "output_type": "execute_result"
    }
   ],
   "source": [
    "managers_request = \"\"\"\n",
    "    SELECT e.first_name, e.last_name, dm.dept_no, d.dept_name, s.salary\n",
    "    FROM dept_managers AS dm\n",
    "    INNER JOIN departments AS d USING (dept_no)\n",
    "    INNER JOIN employees AS e USING (emp_no)\n",
    "    INNER JOIN salary AS s USING (emp_no);\n",
    "    \"\"\"\n",
    "man_data = load_data(query=managers_request)\n",
    "man_data   "
   ]
  },
  {
   "cell_type": "code",
   "execution_count": 11,
   "metadata": {},
   "outputs": [
    {
     "data": {
      "image/png": "[encoded data removed]",
      "text/plain": [
       "<Figure size 432x288 with 1 Axes>"
      ]
     },
     "metadata": {},
     "output_type": "display_data"
    }
   ],
   "source": [
    "title_man_data = man_data.groupby('dept_name')['salary'].mean().sort_values()\n",
    "_ = title_man_data.plot(kind='barh')\n",
    "_ = plt.title('Average Management Salary by Department', fontsize=12)"
   ]
  },
  {
   "cell_type": "code",
   "execution_count": 12,
   "metadata": {},
   "outputs": [],
   "source": [
    "cursor.close()\n",
    "conn.close()"
   ]
  }
 ],
 "metadata": {
  "kernelspec": {
   "display_name": "Python 3",
   "language": "python",
   "name": "python3"
  },
  "language_info": {
   "codemirror_mode": {
    "name": "ipython",
    "version": 3
   },
   "file_extension": ".py",
   "mimetype": "text/x-python",
   "name": "python",
   "nbconvert_exporter": "python",
   "pygments_lexer": "ipython3",
   "version": "3.8.2"
  }
 },
 "nbformat": 4,
 "nbformat_minor": 4
}
